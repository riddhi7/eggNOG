{
  "nbformat": 4,
  "nbformat_minor": 0,
  "metadata": {
    "colab": {
      "provenance": []
    },
    "kernelspec": {
      "name": "python3",
      "display_name": "Python 3"
    },
    "language_info": {
      "name": "python"
    }
  },
  "cells": [
    {
      "cell_type": "markdown",
      "source": [
        "Code used to power-law fit the data.\n",
        "Google Drive Folder with data: https://drive.google.com/drive/folders/13KgY7vxar1qEAdFZqI91m9O2sgiC0o7_?usp=share_link\n",
        "\n",
        "Note: Some codes are file format sensitive (csv/xlsx)"
      ],
      "metadata": {
        "id": "bkunuTPiSppN"
      }
    },
    {
      "cell_type": "code",
      "execution_count": null,
      "metadata": {
        "id": "4xk5uJQNSPyR"
      },
      "outputs": [],
      "source": [
        "import os\n",
        "import glob\n",
        "import math\n",
        "import numpy as np\n",
        "import pandas as pd\n",
        "import random\n",
        "from pathlib import Path\n",
        "\n",
        "import matplotlib.pyplot as plt\n",
        "import seaborn as sns\n",
        "\n",
        "import scipy\n",
        "from scipy import stats\n",
        "from scipy.stats import t\n",
        "from scipy.optimize import curve_fit\n",
        "import warnings\n",
        "warnings.simplefilter(action='ignore', category=FutureWarning)"
      ]
    },
    {
      "cell_type": "markdown",
      "source": [
        "Add the path"
      ],
      "metadata": {
        "id": "GJSZHWrrTbwN"
      }
    },
    {
      "cell_type": "code",
      "source": [
        "path = \"\" #add the path\n",
        "df = pd.read_excel(path).fillna(0)\n",
        "df"
      ],
      "metadata": {
        "id": "PhNDXz-nSi5V"
      },
      "execution_count": null,
      "outputs": []
    },
    {
      "cell_type": "code",
      "source": [
        "def get_rss(yy, ff):\n",
        "  n_data = len(yy)\n",
        "  yy_mean = np.mean(yy)\n",
        "\n",
        "  # Calculate residual and total sum of squares\n",
        "  residual_sum_squares = 0\n",
        "  total_sum_squares = 0\n",
        "  for i in range(n_data):\n",
        "      residual_sum_squares += (yy[i] - ff[i])**2\n",
        "      total_sum_squares += (yy[i] - yy_mean)**2\n",
        "\n",
        "  return residual_sum_squares, total_sum_squares"
      ],
      "metadata": {
        "id": "TPBQ7zrhTYBe"
      },
      "execution_count": null,
      "outputs": []
    },
    {
      "cell_type": "code",
      "source": [
        "def power_law(x, a, b):\n",
        "  return a * np.power(x, b)\n",
        "\n",
        "\n",
        "def plot_data(category, path):\n",
        "  \"\"\"\n",
        "  dir: Directory where all files are present\n",
        "\n",
        "  \"\"\"\n",
        "  df = pd.read_excel(path).fillna(0)\n",
        "\n",
        "  x = df['Total']\n",
        "  y = df[category]\n",
        "  \n",
        "\n",
        "  y = y[y != 0] # Remove zero values\n",
        "  x = x[y.index] # Select corresponding x values\n",
        "  logx, logy = np.log(x), np.log(y)\n",
        "\n",
        "  b, loga = np.polyfit(logx, logy, 1)\n",
        "  a = np.exp(loga)\n",
        "\n",
        "  #plt.style.use('seaborn')\n",
        "  #sns.set_style('darkgrid')\n",
        "\n",
        "  \n",
        "  pars, cov = curve_fit(f=power_law, xdata=x, ydata=y, p0=[0, 0], bounds=(-np.inf, np.inf), maxfev = 1000)\n",
        "  stdevs = np.sqrt(np.diag(cov))\n",
        "  rss, _ = get_rss(np.log(y.to_numpy()), np.log(power_law(x, *pars).to_numpy()))\n",
        "  print(rss)\n",
        "\n",
        "  rss_my = ((y.to_numpy() - power_law(x, *pars).to_numpy()) ** 2).sum()\n",
        "\n",
        "  #plt.xscale('log')\n",
        "  #plt.yscale('log')\n",
        "  #plt.xlim([1e2, 1e5])\n",
        "  #plt.scatter(x, y)\n",
        "  #plt.title(category)\n",
        "\n",
        "  #ax = sns.regplot(logx, logy, ci=95, color='black')\n",
        "  #plt.xlabel(\"Total Functional Prtotein annotations\")\n",
        "  #plt.ylabel(\"Category annotations\")\n",
        "  \n",
        "  #slope_intercept = np.polyfit(logx, logy, 1)\n",
        "  #res_power_law = stats.linregress(logx, logy) # Residual for linear fit\n",
        "\n",
        "  res = stats.linregress(logx, logy)\n",
        "\n",
        "  # See https://docs.scipy.org/doc/scipy/reference/generated/scipy.stats.linregress.html\n",
        "  tinv = lambda p, df: abs(t.ppf(p/2, df))\n",
        "  ts = tinv(0.05, len(logx) - 2)\n",
        "  std_err = res.stderr\n",
        "\n",
        "  # plt.text(800, 80, f\"Slope: {b:.6f} +/- {ts * std_err:.6f}\")\n",
        "  print(f\"{category}   {b:.2f} +/- {ts * std_err:.2f}\")\n",
        "  #plt.plot(x, power_law(x, *pars), linestyle='-', linewidth=1, color=None, label=f\"Slope: {b:.6f} +/- {ts * std_err:.6f}\")\n",
        "  #plt.legend(loc=0)\n",
        "  #plt.show()\n",
        "  return b, ts * std_err, a\n",
        " "
      ],
      "metadata": {
        "id": "zAKERkM_Tg0o"
      },
      "execution_count": null,
      "outputs": []
    },
    {
      "cell_type": "code",
      "source": [
        "slopes = []\n",
        "slope_errs = []\n",
        "for category in df.columns[1:-1]:\n",
        "  slope, slope_err, normalization_constant = plot_data(category, path)\n",
        "  print(f\"Normalization constant: {normalization_constant}\")\n",
        "  slopes.append(slope)\n",
        "  slope_errs.append(slope_err)\n",
        "\n",
        "with open(\"store.csv\", \"w\") as f:\n",
        "  for slope in slopes:\n",
        "    f.write(f\"{slope}\\n\")\n",
        "  for slope_err in slope_errs:\n",
        "    f.write(f\"{slope_err}\\n\")\n",
        "plt.savefig('ar', bbox_inches='tight', dpi=1000)  \n",
        "\n",
        "import matplotlib.backends.backend_pdf\n",
        "from matplotlib.backends.backend_pdf import PdfPages\n",
        "pp = PdfPages('multipage.pdf')\n",
        "plt.savefig(pp, format='pdf')\n",
        "pp.savefig()\n",
        "pp.close()\n",
        "print(b, error, a)"
      ],
      "metadata": {
        "id": "3_1A46QlTlj3"
      },
      "execution_count": null,
      "outputs": []
    }
  ]
}