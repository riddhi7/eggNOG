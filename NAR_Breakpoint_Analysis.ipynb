{
  "nbformat": 4,
  "nbformat_minor": 0,
  "metadata": {
    "colab": {
      "provenance": []
    },
    "kernelspec": {
      "name": "python3",
      "display_name": "Python 3"
    },
    "language_info": {
      "name": "python"
    }
  },
  "cells": [
    {
      "cell_type": "code",
      "metadata": {
        "id": "Gv3heJWJIJa-"
      },
      "source": [
        "import math\n",
        "import numpy as np\n",
        "import numpy as np\n",
        "import pandas as pd\n",
        "\n",
        "import matplotlib.pyplot as plt\n",
        "import numpy as np\n",
        "import seaborn as sns\n",
        "\n",
        "import scipy\n",
        "from scipy import stats\n",
        "from scipy.stats import t\n",
        "from scipy.optimize import curve_fit\n",
        "from scipy.stats import binned_statistic\n",
        "import matplotlib.pyplot as plt"
      ],
      "execution_count": null,
      "outputs": []
    },
    {
      "cell_type": "markdown",
      "source": [
        "Code used for breakpoint analysis.\n",
        "\n",
        "Google Drive Folder with data: https://drive.google.com/drive/folders/13KgY7vxar1qEAdFZqI91m9O2sgiC0o7_?usp=share_link\n",
        "\n",
        "Note: Some codes are file format sensitive (csv/xlsx)"
      ],
      "metadata": {
        "id": "bkunuTPiSppN"
      }
    },
    {
      "cell_type": "code",
      "source": [
        "path = \"/content/drive/MyDrive/multi multi easy/Bacteria.csv\"\n",
        "df = pd.read_csv(path)\n",
        "df = df.fillna(0)\n",
        "df"
      ],
      "metadata": {
        "id": "SrqqfN9rl8Qa"
      },
      "execution_count": null,
      "outputs": []
    },
    {
      "cell_type": "code",
      "source": [
        "!pip install piecewise-regression"
      ],
      "metadata": {
        "id": "ORCbHYQAwIjq"
      },
      "execution_count": null,
      "outputs": []
    },
    {
      "cell_type": "code",
      "source": [
        "x = df['Total']\n",
        "y = df['C']\n",
        "\n",
        "y = y[y != 0] # Remove zero values\n",
        "x = x[y.index] # Select corresponding x values\n",
        "logx = np.log(x)\n",
        "logy = np.log(y)"
      ],
      "metadata": {
        "id": "HmC3-M8zAr4C"
      },
      "execution_count": null,
      "outputs": []
    },
    {
      "cell_type": "code",
      "source": [
        "import piecewise_regression\n",
        "pw_fit = piecewise_regression.Fit(np.array(logx), np.array(logy), n_breakpoints=1)\n",
        "pw_fit.summary()"
      ],
      "metadata": {
        "id": "G1gp3oj3_9HW"
      },
      "execution_count": null,
      "outputs": []
    },
    {
      "cell_type": "code",
      "source": [
        "bp = pw_fit.get_results()['estimates']['breakpoint1']['estimate']\n",
        "\n",
        "x = np.array(x)\n",
        "y = np.array(y)\n",
        "\n",
        "x1 = x[x < np.exp(bp)]\n",
        "y1 = y[np.argwhere(x < np.exp(bp)).squeeze()]\n",
        "x2 = x[(x > np.exp(bp))]\n",
        "y2 = y[np.argwhere((x > np.exp(bp))).squeeze()]"
      ],
      "metadata": {
        "id": "xo9wnCgeBz_c"
      },
      "execution_count": null,
      "outputs": []
    },
    {
      "cell_type": "code",
      "source": [
        "np.exp(bp)"
      ],
      "metadata": {
        "id": "omUNvQIMj3Ie"
      },
      "execution_count": null,
      "outputs": []
    },
    {
      "cell_type": "code",
      "source": [
        "def power_law(x, a, b):\n",
        "  \"\"\"Probability Density Function (PDF) for Powerlaw.\"\"\"\n",
        "  return a * np.power(x, b)\n",
        "\n",
        "def parameters(x, y, pars, cov):\n",
        "  # Pars\n",
        "  logx = np.log(x)\n",
        "  logy = np.log(y)\n",
        "\n",
        "  stdevs = np.sqrt(np.diag(cov))\n",
        "  res_plaw = y - power_law(x, *pars) # Residual for power law fit\n",
        "  res = stats.linregress(logx, logy)\n",
        "  tinv = lambda p, df: abs(t.ppf(p/2, df))\n",
        "  ts = tinv(0.05, len(logx) - 2)\n",
        "  std_err = res.stderr\n",
        "  b, loga = np.polyfit(logx, logy, 1)\n",
        "  a = np.exp(loga)\n",
        "  return b, ts * std_err, a\n",
        "\n",
        "#fig, ax = plt.subplots(1, 1)\n",
        "fig, ax = plt.subplots(1, 1, figsize=(3, 3))\n",
        "pars1, cov1 = curve_fit(f=power_law, xdata=x1, ydata=y1, p0=[0, 0], bounds=(-np.inf, np.inf), maxfev = 2000)\n",
        "slope1, slope_err1, a1 = parameters(x1, y1, pars1, cov1)\n",
        "ax.plot(x1, power_law(x1, *pars1), linestyle='-', linewidth=1, color='#fcbba1');\n",
        "\n",
        "pars2, cov2 = curve_fit(f=power_law, xdata=x2, ydata=y2, p0=[0, 0], bounds=(-np.inf, np.inf), maxfev = 4000)\n",
        "slope2, slope_err2, a2 = parameters(x2, y2, pars2, cov2)\n",
        "ax.plot(x2, power_law(x2, *pars2), linestyle='-', linewidth=1, color='#969696');\n",
        "\n",
        "sns.scatterplot(x=x1, y=y1, s=10, marker=\"o\", color='#fcbba1')\n",
        "sns.scatterplot(x=x2, y=y2, s=10, marker=\"o\", color='#969696')\n",
        "\n",
        "#FC9272\n",
        "#009E73\n",
        "plt.style.use('seaborn')\n",
        "plt.style.use('tableau-colorblind10')\n",
        "sns.set_style('whitegrid')\n",
        "sns.set_context(\"paper\")\n",
        "ax.legend(loc=0, fontsize=14);\n",
        "#ax.set_xlabel(\"Total protein annotations\", fontsize=14);\n",
        "#ax.set_ylabel(\"Category annotations\", fontsize=14);\n",
        "ax.set_title(\"[E] Amino acid transport and \\n metabolism\", fontsize=12);\n",
        "ax.set_xscale('log')\n",
        "ax.set_yscale('log')\n",
        "ax.set_xlim([1e2, 1e4])\n",
        "plt.savefig('14 ar E', bbox_inches='tight', dpi=500)\n",
        "\n",
        "print(f\"Slope 1: {slope1:.2f} +/- {slope_err1:.2f}\")\n",
        "print(f\"Slope 2: {slope2:.2f} +/- {slope_err2:.2f}\")\n",
        "#; Normalization constant:{a1}\"\n",
        "#; Normalization constant:{a2}"
      ],
      "metadata": {
        "id": "vTlGcHj0AJy0"
      },
      "execution_count": null,
      "outputs": []
    }
  ]
}